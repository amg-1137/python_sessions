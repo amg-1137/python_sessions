{
 "cells": [
  {
   "attachments": {},
   "cell_type": "markdown",
   "metadata": {},
   "source": [
    "# Python Basics\n",
    "## Guiding Principle of Python's Design"
   ]
  },
  {
   "cell_type": "code",
   "execution_count": 1,
   "metadata": {},
   "outputs": [
    {
     "name": "stdout",
     "output_type": "stream",
     "text": [
      "The Zen of Python, by Tim Peters\n",
      "\n",
      "Beautiful is better than ugly.\n",
      "Explicit is better than implicit.\n",
      "Simple is better than complex.\n",
      "Complex is better than complicated.\n",
      "Flat is better than nested.\n",
      "Sparse is better than dense.\n",
      "Readability counts.\n",
      "Special cases aren't special enough to break the rules.\n",
      "Although practicality beats purity.\n",
      "Errors should never pass silently.\n",
      "Unless explicitly silenced.\n",
      "In the face of ambiguity, refuse the temptation to guess.\n",
      "There should be one-- and preferably only one --obvious way to do it.\n",
      "Although that way may not be obvious at first unless you're Dutch.\n",
      "Now is better than never.\n",
      "Although never is often better than *right* now.\n",
      "If the implementation is hard to explain, it's a bad idea.\n",
      "If the implementation is easy to explain, it may be a good idea.\n",
      "Namespaces are one honking great idea -- let's do more of those!\n"
     ]
    }
   ],
   "source": [
    "import this"
   ]
  },
  {
   "attachments": {},
   "cell_type": "markdown",
   "metadata": {},
   "source": [
    "## 1. Variable Assignment and Basic Data Types\n",
    "Variable naming rules: \n",
    "1. Variable names are case sensitive\n",
    "2. Variable must start with a character or underscore\n",
    "3. Variable names can only contain alphanumeric characters and underscores\n",
    "4. Variable name cannot be a python keyword\n",
    "\n",
    "- ### Integers"
   ]
  },
  {
   "cell_type": "code",
   "execution_count": 2,
   "metadata": {},
   "outputs": [
    {
     "name": "stdout",
     "output_type": "stream",
     "text": [
      "0 1 4\n"
     ]
    }
   ],
   "source": [
    "var_1 = 0\n",
    "var_2 = 1\n",
    "var_3 = 4\n",
    "print(var_1, var_2, var_3)"
   ]
  },
  {
   "attachments": {},
   "cell_type": "markdown",
   "metadata": {},
   "source": [
    "- ### Strings"
   ]
  },
  {
   "cell_type": "code",
   "execution_count": 4,
   "metadata": {},
   "outputs": [
    {
     "name": "stdout",
     "output_type": "stream",
     "text": [
      "python-3.9\n",
      "vs_code\n",
      "GitHub\n"
     ]
    }
   ],
   "source": [
    "string_1 = \"python-3.9\"\n",
    "string_2 = \"vs_code\"\n",
    "string_3 = \"GitHub\"\n",
    "print(string_1)\n",
    "print(string_2)\n",
    "print(string_3)"
   ]
  },
  {
   "attachments": {},
   "cell_type": "markdown",
   "metadata": {},
   "source": [
    "- ### Float"
   ]
  },
  {
   "cell_type": "code",
   "execution_count": 5,
   "metadata": {},
   "outputs": [
    {
     "name": "stdout",
     "output_type": "stream",
     "text": [
      "2.34 3.1415\n"
     ]
    }
   ],
   "source": [
    "float_ex = 2.34\n",
    "float_2 = 3.1415\n",
    "print(float_ex, float_2)"
   ]
  },
  {
   "attachments": {},
   "cell_type": "markdown",
   "metadata": {},
   "source": [
    "- ### Booleans"
   ]
  },
  {
   "cell_type": "code",
   "execution_count": 6,
   "metadata": {},
   "outputs": [
    {
     "name": "stdout",
     "output_type": "stream",
     "text": [
      "True False\n"
     ]
    }
   ],
   "source": [
    "true_bool = True\n",
    "false_bool = False\n",
    "print(true_bool, false_bool)"
   ]
  },
  {
   "attachments": {},
   "cell_type": "markdown",
   "metadata": {},
   "source": [
    "- ### Multiline Assignment"
   ]
  },
  {
   "cell_type": "code",
   "execution_count": 12,
   "metadata": {},
   "outputs": [
    {
     "name": "stdout",
     "output_type": "stream",
     "text": [
      "1 multiline 3.14\n"
     ]
    }
   ],
   "source": [
    "var_num, var_string, var_float = 1, \"multiline\", 3.14\n",
    "print(var_num, var_string, var_float)"
   ]
  },
  {
   "cell_type": "code",
   "execution_count": 17,
   "metadata": {},
   "outputs": [
    {
     "name": "stdout",
     "output_type": "stream",
     "text": [
      "1000 double 9000.01\n",
      "2 singleline 2.5\n",
      "1000 double 9000.01\n"
     ]
    },
    {
     "data": {
      "text/plain": [
       "9000.01"
      ]
     },
     "execution_count": 17,
     "metadata": {},
     "output_type": "execute_result"
    }
   ],
   "source": [
    "print(var_num, var_string, var_float)\n",
    "var_num, var_string, var_float = 2, \"singleline\", 2.5\n",
    "print(var_num, var_string, var_float)\n",
    "var_num, var_string, var_float = 1000, \"double\", 9000.01\n",
    "print(var_num, var_string, var_float)\n",
    "var_float"
   ]
  },
  {
   "attachments": {},
   "cell_type": "markdown",
   "metadata": {},
   "source": [
    "## 2. Comments"
   ]
  },
  {
   "cell_type": "code",
   "execution_count": 16,
   "metadata": {},
   "outputs": [
    {
     "name": "stdout",
     "output_type": "stream",
     "text": [
      "9\n"
     ]
    },
    {
     "data": {
      "text/plain": [
       "'\\nmultiline comments\\nthis is how the code works\\n'"
      ]
     },
     "execution_count": 16,
     "metadata": {},
     "output_type": "execute_result"
    }
   ],
   "source": [
    "# this is my first comment\n",
    "# change_var = 3\n",
    "change_var = 9\n",
    "print(change_var)\n",
    "\n",
    "\"\"\"\n",
    "multiline comments\n",
    "this is how the code works\n",
    "\"\"\""
   ]
  },
  {
   "attachments": {},
   "cell_type": "markdown",
   "metadata": {},
   "source": [
    "## 3. Python `type()` function"
   ]
  },
  {
   "cell_type": "code",
   "execution_count": 19,
   "metadata": {},
   "outputs": [
    {
     "name": "stdout",
     "output_type": "stream",
     "text": [
      "<class 'str'>\n",
      "<class 'float'>\n",
      "<class 'int'>\n",
      "<class 'bool'>\n"
     ]
    }
   ],
   "source": [
    "print(type(var_string))\n",
    "print(type(var_float))\n",
    "print(type(var_num))\n",
    "print(type(true_bool))"
   ]
  },
  {
   "attachments": {},
   "cell_type": "markdown",
   "metadata": {},
   "source": [
    "## 4. Type Casting"
   ]
  },
  {
   "cell_type": "code",
   "execution_count": 30,
   "metadata": {},
   "outputs": [
    {
     "name": "stdout",
     "output_type": "stream",
     "text": [
      "<class 'int'>\n",
      "<class 'str'>\n",
      "1 3\n"
     ]
    }
   ],
   "source": [
    "var_string = \"45\"\n",
    "var_int = int(var_string)\n",
    "print(type(var_int))\n",
    "var_new_string = str(var_int)\n",
    "print(type(var_new_string))\n",
    "print(int(True), int(3.1415))"
   ]
  },
  {
   "attachments": {},
   "cell_type": "markdown",
   "metadata": {},
   "source": [
    "## 5. Strings"
   ]
  },
  {
   "attachments": {},
   "cell_type": "markdown",
   "metadata": {},
   "source": [
    "- ### Multiline Strings"
   ]
  },
  {
   "cell_type": "code",
   "execution_count": 31,
   "metadata": {},
   "outputs": [
    {
     "name": "stdout",
     "output_type": "stream",
     "text": [
      "this is a Very Long\n",
      "String\n",
      "It Goes ON FOR A FEW 100\n",
      "LINES!\n"
     ]
    }
   ],
   "source": [
    "multiline_string = \"\"\"this is a Very Long\n",
    "String\n",
    "It Goes ON FOR A FEW 100\n",
    "LINES!\"\"\"\n",
    "print(multiline_string)"
   ]
  },
  {
   "attachments": {},
   "cell_type": "markdown",
   "metadata": {},
   "source": [
    "- ### String Indexing"
   ]
  },
  {
   "cell_type": "code",
   "execution_count": 52,
   "metadata": {},
   "outputs": [
    {
     "name": "stdout",
     "output_type": "stream",
     "text": [
      "ti saV\n",
      "True\n"
     ]
    }
   ],
   "source": [
    "# print(multiline_string[0], multiline_string[15], multiline_string[5])\n",
    "# print(multiline_string[-1])\n",
    "# print(multiline_string[-15])\n",
    "# print(multiline_string[-5])\n",
    "\n",
    "# print(multiline_string[1:6])\n",
    "# # [starting_index (inlcusive) : ending_index (Exlcusive)]\n",
    "# print(multiline_string[:6])\n",
    "# print(multiline_string[6:])\n",
    "# print(multiline_string[6:-1])\n",
    "# [starting_index (inlcusive) : ending_index (Exlcusive) : step]\n",
    "print(multiline_string[:12:2])\n",
    "print(True)"
   ]
  },
  {
   "attachments": {},
   "cell_type": "markdown",
   "metadata": {},
   "source": [
    "- ### String functions `len(), lower(), strip(), replace()`"
   ]
  },
  {
   "cell_type": "code",
   "execution_count": 60,
   "metadata": {},
   "outputs": [
    {
     "name": "stdout",
     "output_type": "stream",
     "text": [
      "58\n",
      "this is a Very Long\n",
      "String\n",
      "It Goes ON FOR A FEW 100\n",
      "LINES!\n",
      "Lower: this is a very long\n",
      "string\n",
      "it goes on for a few 100\n",
      "lines!\n",
      "Upper: THIS IS A VERY LONG\n",
      "STRING\n",
      "IT GOES ON FOR A FEW 100\n",
      "LINES!\n",
      "ORIGINAL: this is a Very Long\n",
      "String\n",
      "It Goes ON FOR A FEW 100\n",
      "LINES!\n",
      "REPLACED: thYYs YYs a Very Long\n",
      "StrYYng\n",
      "It Goes ON FOR A FEW 100\n",
      "LINES!\n"
     ]
    }
   ],
   "source": [
    "print(len(multiline_string))\n",
    "print(multiline_string)\n",
    "print(\"Lower:\", multiline_string.lower())\n",
    "print(\"Upper:\", multiline_string.upper())\n",
    "new_string = multiline_string.replace(\"i\", \"YY\")\n",
    "print(\"ORIGINAL:\", multiline_string)\n",
    "print(\"REPLACED:\", new_string)\n"
   ]
  },
  {
   "attachments": {},
   "cell_type": "markdown",
   "metadata": {},
   "source": [
    "- ### String Slicing"
   ]
  },
  {
   "cell_type": "code",
   "execution_count": null,
   "metadata": {},
   "outputs": [],
   "source": []
  },
  {
   "attachments": {},
   "cell_type": "markdown",
   "metadata": {},
   "source": [
    "- ### String Concatenation"
   ]
  },
  {
   "cell_type": "code",
   "execution_count": 67,
   "metadata": {},
   "outputs": [
    {
     "name": "stdout",
     "output_type": "stream",
     "text": [
      "python-3.9 vs_code\n",
      "python-3.9 with vs_code\n"
     ]
    }
   ],
   "source": [
    "print(string_1, string_2)\n",
    "concat_string = string_1 + \" with \" + string_2\n",
    "print(concat_string)"
   ]
  },
  {
   "attachments": {},
   "cell_type": "markdown",
   "metadata": {},
   "source": [
    "## 6. Comparison, Membership Operators\n",
    "`>=, ==, =<, in, not in`"
   ]
  },
  {
   "cell_type": "code",
   "execution_count": 76,
   "metadata": {},
   "outputs": [
    {
     "name": "stdout",
     "output_type": "stream",
     "text": [
      "0 1 4\n",
      "False\n",
      "False\n",
      "False\n",
      "True\n",
      "True\n",
      "False\n",
      "True\n",
      "False\n",
      "True\n"
     ]
    }
   ],
   "source": [
    "print(var_1, var_2, var_3)\n",
    "print(var_1 > var_2)\n",
    "print(var_1 >= var_2)\n",
    "print(var_1 == var_2)\n",
    "print(var_1 <= var_2)\n",
    "print(var_1 < var_2)\n",
    "print(var_1 != var_1)\n",
    "print(var_1 == var_1)\n",
    "print(\"python\" == \"Python\")\n",
    "print(\"python\" == \"Python\".lower())"
   ]
  },
  {
   "cell_type": "code",
   "execution_count": 82,
   "metadata": {},
   "outputs": [
    {
     "name": "stdout",
     "output_type": "stream",
     "text": [
      "True\n",
      "True\n",
      "False\n",
      "True\n"
     ]
    }
   ],
   "source": [
    "# in and not in\n",
    "print(\"p\" in \"python\")\n",
    "print(\"P\" in \"python\".upper())\n",
    "print(\"1\" in \"vscode\")\n",
    "\n",
    "print(\"e\" not in \"python\")\n"
   ]
  },
  {
   "attachments": {},
   "cell_type": "markdown",
   "metadata": {},
   "source": [
    "## 7. Arithmetic and Assignment Operators"
   ]
  },
  {
   "cell_type": "code",
   "execution_count": 86,
   "metadata": {},
   "outputs": [
    {
     "name": "stdout",
     "output_type": "stream",
     "text": [
      "455 400 2250 90.0 0\n",
      "3.3333333333333335\n",
      "3\n",
      "wordwordword\n"
     ]
    }
   ],
   "source": [
    "# +, -, *, /, %\n",
    "\n",
    "number = 450\n",
    "print(\n",
    "    number + 5,\n",
    "    number - 50,\n",
    "    number * 5,\n",
    "    number / 5,\n",
    "    number % 5\n",
    ")\n",
    "\n",
    "print(30/9)\n",
    "print(30//9)\n",
    "# strings\n",
    "ex_string = \"word\"\n",
    "print(\n",
    "    ex_string * 3\n",
    ")"
   ]
  },
  {
   "cell_type": "code",
   "execution_count": 93,
   "metadata": {},
   "outputs": [
    {
     "name": "stdout",
     "output_type": "stream",
     "text": [
      "12\n",
      "24\n",
      "12\n",
      "1.0\n",
      "1.0\n",
      "python-3.9 with vs_code\n",
      "python-3.9 with vs_code and jupyter\n",
      "wordwordword\n",
      "wordwordwordwordwordwordwordwordword\n"
     ]
    }
   ],
   "source": [
    "num_eg = 12\n",
    "print(num_eg)\n",
    "num_eg += 12\n",
    "print(num_eg)\n",
    "num_eg -= 12\n",
    "print(num_eg)\n",
    "num_eg /= 12\n",
    "print(num_eg)\n",
    "num_eg %= 12\n",
    "print(num_eg)\n",
    "concat_string = \"python-3.9 with vs_code\"\n",
    "print(concat_string)\n",
    "concat_string += \" and jupyter\"\n",
    "print(concat_string)\n",
    "print(ex_string)\n",
    "ex_string *= 3\n",
    "print(ex_string)"
   ]
  },
  {
   "attachments": {},
   "cell_type": "markdown",
   "metadata": {},
   "source": [
    "## 8. Lists\n",
    "- ### Assignment"
   ]
  },
  {
   "cell_type": "code",
   "execution_count": null,
   "metadata": {},
   "outputs": [],
   "source": []
  },
  {
   "attachments": {},
   "cell_type": "markdown",
   "metadata": {},
   "source": [
    "- ### List Index and Slicing"
   ]
  },
  {
   "cell_type": "code",
   "execution_count": null,
   "metadata": {},
   "outputs": [],
   "source": []
  },
  {
   "attachments": {},
   "cell_type": "markdown",
   "metadata": {},
   "source": [
    "- ### List functions `insert(), append(), extend(). remove(), sort()`"
   ]
  },
  {
   "cell_type": "code",
   "execution_count": null,
   "metadata": {},
   "outputs": [],
   "source": []
  },
  {
   "attachments": {},
   "cell_type": "markdown",
   "metadata": {},
   "source": [
    "- ### Copying a list with `copy()`"
   ]
  },
  {
   "cell_type": "code",
   "execution_count": null,
   "metadata": {},
   "outputs": [],
   "source": []
  },
  {
   "attachments": {},
   "cell_type": "markdown",
   "metadata": {},
   "source": [
    "## 9. Tuples\n",
    "- ### Assignment and Unpacking"
   ]
  },
  {
   "cell_type": "code",
   "execution_count": null,
   "metadata": {},
   "outputs": [],
   "source": []
  },
  {
   "cell_type": "code",
   "execution_count": null,
   "metadata": {},
   "outputs": [],
   "source": []
  },
  {
   "attachments": {},
   "cell_type": "markdown",
   "metadata": {},
   "source": [
    "## 10. Control Flow\n",
    "- ### IF"
   ]
  },
  {
   "cell_type": "code",
   "execution_count": null,
   "metadata": {},
   "outputs": [],
   "source": []
  },
  {
   "attachments": {},
   "cell_type": "markdown",
   "metadata": {},
   "source": [
    "- ### ELSE"
   ]
  },
  {
   "cell_type": "code",
   "execution_count": null,
   "metadata": {},
   "outputs": [],
   "source": []
  },
  {
   "attachments": {},
   "cell_type": "markdown",
   "metadata": {},
   "source": [
    "- ### ELIF"
   ]
  },
  {
   "cell_type": "code",
   "execution_count": null,
   "metadata": {},
   "outputs": [],
   "source": []
  },
  {
   "attachments": {},
   "cell_type": "markdown",
   "metadata": {},
   "source": [
    "- ### Shorthand If Else"
   ]
  },
  {
   "cell_type": "code",
   "execution_count": null,
   "metadata": {},
   "outputs": [],
   "source": []
  },
  {
   "attachments": {},
   "cell_type": "markdown",
   "metadata": {},
   "source": [
    "## 11. Loops\n",
    "- ### FOR loop"
   ]
  },
  {
   "cell_type": "code",
   "execution_count": null,
   "metadata": {},
   "outputs": [],
   "source": []
  },
  {
   "attachments": {},
   "cell_type": "markdown",
   "metadata": {},
   "source": [
    "- ### WHILE loop"
   ]
  },
  {
   "cell_type": "code",
   "execution_count": null,
   "metadata": {},
   "outputs": [],
   "source": []
  },
  {
   "attachments": {},
   "cell_type": "markdown",
   "metadata": {},
   "source": [
    "# Upcoming class\n",
    "- ## List Comprehension\n",
    "- ## Functions\n",
    "- ## Lambda Functions\n",
    "- ## OOPs concepts"
   ]
  }
 ],
 "metadata": {
  "kernelspec": {
   "display_name": "base",
   "language": "python",
   "name": "python3"
  },
  "language_info": {
   "codemirror_mode": {
    "name": "ipython",
    "version": 3
   },
   "file_extension": ".py",
   "mimetype": "text/x-python",
   "name": "python",
   "nbconvert_exporter": "python",
   "pygments_lexer": "ipython3",
   "version": "3.9.13"
  },
  "orig_nbformat": 4
 },
 "nbformat": 4,
 "nbformat_minor": 2
}
