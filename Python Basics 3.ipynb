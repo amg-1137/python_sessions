{
 "cells": [
  {
   "attachments": {},
   "cell_type": "markdown",
   "metadata": {},
   "source": [
    "## 13. Functions\n",
    "- ### Defining a function"
   ]
  },
  {
   "cell_type": "code",
   "execution_count": null,
   "metadata": {},
   "outputs": [],
   "source": []
  },
  {
   "attachments": {},
   "cell_type": "markdown",
   "metadata": {},
   "source": [
    "- ### Paramters & Arguments"
   ]
  },
  {
   "cell_type": "code",
   "execution_count": null,
   "metadata": {},
   "outputs": [],
   "source": []
  },
  {
   "attachments": {},
   "cell_type": "markdown",
   "metadata": {},
   "source": [
    "- ### Default Parameters"
   ]
  },
  {
   "cell_type": "code",
   "execution_count": null,
   "metadata": {},
   "outputs": [],
   "source": []
  },
  {
   "attachments": {},
   "cell_type": "markdown",
   "metadata": {},
   "source": [
    "- ### `return`"
   ]
  },
  {
   "cell_type": "code",
   "execution_count": null,
   "metadata": {},
   "outputs": [],
   "source": []
  },
  {
   "attachments": {},
   "cell_type": "markdown",
   "metadata": {},
   "source": [
    "- ### Scope"
   ]
  },
  {
   "cell_type": "code",
   "execution_count": null,
   "metadata": {},
   "outputs": [],
   "source": []
  },
  {
   "attachments": {},
   "cell_type": "markdown",
   "metadata": {},
   "source": [
    "# OOPS Concepts\n",
    "## 1. Objects\n",
    "An entity that has state and behavior is known as an object e.g., chair, bike, marker, pen, table, car, etc. It can be physical or logical.<br>\n",
    "An object has three characteristics:<br>\n",
    "- **State**: represents the data (value) of an object.<br>\n",
    "- **Behavior**: represents the behavior (functionality) of an object such as deposit, withdraw, etc.<br>\n",
    "- **Identity**: An object identity is typically implemented via a unique ID. The value of the ID is not visible to the external user. However, it is used internally by the JVM to identify each object uniquely.<br><br>\n",
    "## 2. Class\n",
    "A class is a collection of objects. A class contains the blueprints or the prototype from which the objects are being created. It is a logical entity that contains some attributes and methods. <br>\n",
    "- ### Writing a Class\n",
    "\n"
   ]
  },
  {
   "cell_type": "code",
   "execution_count": 3,
   "metadata": {},
   "outputs": [
    {
     "name": "stdout",
     "output_type": "stream",
     "text": [
      "0 True 0\n",
      "2\n"
     ]
    }
   ],
   "source": [
    "class Vehicle:\n",
    "    tyres = 0\n",
    "    engine = True\n",
    "    windows = 0\n",
    "    \n",
    "myVehicle = Vehicle()\n",
    "type(myVehicle)\n",
    "print(myVehicle.tyres,\n",
    "      myVehicle.engine,\n",
    "      myVehicle.windows)\n",
    "\n",
    "myVehicle.tyres = 2\n",
    "print(myVehicle.tyres)"
   ]
  },
  {
   "cell_type": "markdown",
   "metadata": {},
   "source": [
    "- ### Declaring a function"
   ]
  },
  {
   "cell_type": "code",
   "execution_count": 7,
   "metadata": {},
   "outputs": [
    {
     "name": "stdout",
     "output_type": "stream",
     "text": [
      "False\n",
      "True\n",
      "False\n"
     ]
    }
   ],
   "source": [
    "class Vehicle:\n",
    "    tyres = 0\n",
    "    engine = True\n",
    "    windows = 0\n",
    "    moving = False\n",
    "\n",
    "    def move(self):\n",
    "        self.moving = True\n",
    "\n",
    "    def stop(self):\n",
    "        self.moving = False\n",
    "\n",
    "\n",
    "myVehicle = Vehicle()\n",
    "print(myVehicle.moving)\n",
    "myVehicle.move()\n",
    "print(myVehicle.moving)\n",
    "myVehicle.stop()\n",
    "print(myVehicle.moving)"
   ]
  },
  {
   "cell_type": "code",
   "execution_count": 11,
   "metadata": {},
   "outputs": [
    {
     "name": "stdout",
     "output_type": "stream",
     "text": [
      "False\n",
      "True\n"
     ]
    }
   ],
   "source": [
    "print(myVehicle.moving)\n",
    "Vehicle.move(myVehicle)\n",
    "print(myVehicle.moving)\n"
   ]
  },
  {
   "attachments": {},
   "cell_type": "markdown",
   "metadata": {},
   "source": [
    "- ### `__init__(self)` function"
   ]
  },
  {
   "cell_type": "code",
   "execution_count": 13,
   "metadata": {},
   "outputs": [
    {
     "name": "stdout",
     "output_type": "stream",
     "text": [
      "2 True 0\n"
     ]
    }
   ],
   "source": [
    "class TwoWheeler:\n",
    "    def __init__(self):\n",
    "        self.tyres = 2\n",
    "        self.engine = True\n",
    "        self.windows = 0\n",
    "        \n",
    "my_2_wheeler = TwoWheeler()\n",
    "print(my_2_wheeler.tyres, my_2_wheeler.engine, my_2_wheeler.windows)"
   ]
  },
  {
   "attachments": {},
   "cell_type": "markdown",
   "metadata": {},
   "source": [
    "- ### Class Methods"
   ]
  },
  {
   "cell_type": "code",
   "execution_count": 16,
   "metadata": {},
   "outputs": [
    {
     "name": "stdout",
     "output_type": "stream",
     "text": [
      "2 True 0 True\n"
     ]
    }
   ],
   "source": [
    "class TwoWheeler:\n",
    "    def __init__(self):\n",
    "        self.tyres = 2\n",
    "        self.engine = True\n",
    "        self.windows = 0\n",
    "        self.move()\n",
    "        \n",
    "    def move(self):\n",
    "        self.moving = True\n",
    "\n",
    "my_2_wheeler = TwoWheeler()\n",
    "print(my_2_wheeler.tyres, my_2_wheeler.engine, my_2_wheeler.windows, my_2_wheeler.moving)"
   ]
  },
  {
   "cell_type": "code",
   "execution_count": 21,
   "metadata": {},
   "outputs": [
    {
     "name": "stdout",
     "output_type": "stream",
     "text": [
      "6 False 4\n",
      "10 True 5\n"
     ]
    }
   ],
   "source": [
    "class CustomVehicle:\n",
    "    def __init__(self, wheels = 100, engine = True, windows = None):\n",
    "        self.tyres = wheels\n",
    "        self.engine = engine\n",
    "        self.windows = windows\n",
    "        \n",
    "my_vehicle = CustomVehicle(6, False, 4)\n",
    "print(my_vehicle.tyres, my_vehicle.engine, my_vehicle.windows)\n",
    "weird_vehicle = CustomVehicle(wheels=10, windows=5)\n",
    "print(weird_vehicle.tyres, weird_vehicle.engine, weird_vehicle.windows)"
   ]
  },
  {
   "attachments": {},
   "cell_type": "markdown",
   "metadata": {},
   "source": [
    "## 3. Inheritance\n",
    "**Inheritance** is the capability of one class to derive or inherit the properties from another class. The class that derives properties is called the derived class or child class and the class from which the properties are being derived is called the base class or parent class.<br>\n",
    "The benefits of inheritance are: <br>\n",
    "- It represents real-world relationships well.\n",
    "- It provides the reusability of a code. We don’t have to write the same code again and again. Also, it allows us to add more features to a class without modifying it.\n",
    "- It is transitive in nature, which means that if class B inherits from another class A, then all the subclasses of B would automatically inherit from class A.<br>\n",
    "\n",
    "### Types of Inheritance <br>\n",
    "**Single Inheritance**:\n",
    "Single-level inheritance enables a derived class to inherit characteristics from a single-parent class.\n",
    "\n",
    "**Multilevel Inheritance**:\n",
    "Multi-level inheritance enables a derived class to inherit properties from an immediate parent class which in turn inherits properties from his parent class.\n",
    "\n",
    "**Hierarchical Inheritance**:\n",
    "Hierarchical level inheritance enables more than one derived class to inherit properties from a parent class.\n",
    "\n",
    "**Multiple Inheritance**:\n",
    "Multiple level inheritance enables one derived class to inherit properties from more than one base class.\n",
    "\n",
    "\n",
    "- ### Class Inheritance"
   ]
  },
  {
   "cell_type": "code",
   "execution_count": 24,
   "metadata": {},
   "outputs": [
    {
     "name": "stdout",
     "output_type": "stream",
     "text": [
      "100\n",
      "True\n",
      "None\n",
      "is moving: True\n"
     ]
    }
   ],
   "source": [
    "class CustomVehicle:\n",
    "    def __init__(self, wheels = 100, engine = True, windows = None):\n",
    "        self.tyres = wheels\n",
    "        self.engine = engine\n",
    "        self.windows = windows\n",
    "    \n",
    "    def move(self):\n",
    "        self.moving = True\n",
    "\n",
    "class Car(CustomVehicle):\n",
    "    def show_properties(self):\n",
    "        print(self.tyres)\n",
    "        print(self.engine)\n",
    "        print(self.windows)\n",
    "        \n",
    "    \n",
    "my_car = Car()\n",
    "my_car.show_properties()\n",
    "my_car.move() # <- from the parent class\n",
    "print(\"is moving:\", my_car.moving)"
   ]
  },
  {
   "cell_type": "markdown",
   "metadata": {},
   "source": [
    "- ### `super()` function"
   ]
  },
  {
   "cell_type": "code",
   "execution_count": 30,
   "metadata": {},
   "outputs": [
    {
     "name": "stdout",
     "output_type": "stream",
     "text": [
      "6\n",
      "True\n",
      "None\n",
      "True\n"
     ]
    }
   ],
   "source": [
    "class CustomVehicle:\n",
    "    def __init__(self, wheels=100, engine=True, windows=None):\n",
    "        self.tyres = wheels\n",
    "        self.engine = engine\n",
    "        self.windows = windows\n",
    "\n",
    "    def move(self):\n",
    "        self.moving = True\n",
    "\n",
    "\n",
    "class Car(CustomVehicle):\n",
    "    def __init__(self, wheels=100, engine=True, windows=None, AC=False):\n",
    "        super().__init__(wheels, engine, windows)\n",
    "        self.AC = AC\n",
    "\n",
    "    def show_properties(self):\n",
    "        print(self.tyres)\n",
    "        print(self.engine)\n",
    "        print(self.windows)\n",
    "        print(self.AC)\n",
    "\n",
    "\n",
    "my_car = Car(wheels=6, AC=True)\n",
    "my_car.show_properties()"
   ]
  },
  {
   "cell_type": "markdown",
   "metadata": {},
   "source": [
    "- ### Adding more parameters to child class"
   ]
  },
  {
   "cell_type": "code",
   "execution_count": null,
   "metadata": {},
   "outputs": [],
   "source": []
  },
  {
   "attachments": {},
   "cell_type": "markdown",
   "metadata": {},
   "source": [
    "## 4. Polymorphism\n",
    "**Polymorphism**  refers to the use of a single type entity (method, operator or object) to represent different types in different scenarios. <br>\n",
    "*poly*: many, *moprhism*: form <br>\n",
    "***Example***: the `+` operator can be used on both int and string data types. <br>\n",
    "Similarly `len()` can be used on strings and data structures.<br>\n",
    "*Python does not support function overloading.*<br>\n",
    "### Implementing polymorphism with inherited classes"
   ]
  },
  {
   "cell_type": "code",
   "execution_count": 34,
   "metadata": {},
   "outputs": [
    {
     "name": "stdout",
     "output_type": "stream",
     "text": [
      "6\n",
      "True\n",
      "None\n",
      "AC: True\n",
      "Moving False\n",
      "6\n",
      "True\n",
      "None\n",
      "AC: False\n",
      "Moving True\n",
      "6\n",
      "True\n",
      "None\n",
      "AC: False\n",
      "Moving True\n"
     ]
    }
   ],
   "source": [
    "class CustomVehicle:\n",
    "    def __init__(self, wheels=100, engine=True, windows=None):\n",
    "        self.tyres = wheels\n",
    "        self.engine = engine\n",
    "        self.windows = windows\n",
    "\n",
    "    def move(self):\n",
    "        self.moving = True\n",
    "\n",
    "\n",
    "class Car(CustomVehicle):\n",
    "    def __init__(self, wheels=100, engine=True, windows=None, AC=False):\n",
    "        super().__init__(wheels, engine, windows)\n",
    "        self.AC = AC\n",
    "        self.moving = False\n",
    "        \n",
    "\n",
    "    def show_properties(self):\n",
    "        print(self.tyres)\n",
    "        print(self.engine)\n",
    "        print(self.windows)\n",
    "        print(\"AC:\", self.AC)\n",
    "        print(\"Moving\", self.moving)\n",
    "        \n",
    "        \n",
    "    def move(self):\n",
    "        self.AC = False\n",
    "        self.moving = True\n",
    "\n",
    "\n",
    "my_car = Car(wheels=6, AC=True)\n",
    "my_car.show_properties()\n",
    "my_car.move()\n",
    "my_car.show_properties()\n",
    "CustomVehicle.move(my_car)\n",
    "my_car.show_properties()"
   ]
  },
  {
   "attachments": {},
   "cell_type": "markdown",
   "metadata": {},
   "source": [
    "## 5. Abstraction\n",
    "**Abstraction** in Programming is about hiding unwanted details while showing most essential information. <br>\n",
    "Eg: The `range()` function gives us a list of numbers but we are not aware of its implementation or underlying code.<br><br>\n",
    "### Using `__` to hide variables"
   ]
  },
  {
   "cell_type": "code",
   "execution_count": null,
   "metadata": {},
   "outputs": [],
   "source": []
  },
  {
   "attachments": {},
   "cell_type": "markdown",
   "metadata": {},
   "source": [
    "## 6. Encapsulation\n",
    "**Encapsulation** describes the idea of wrapping data and the methods that work on data within one unit. This puts restrictions on accessing variables and methods directly and can prevent the accidental modification of data. To prevent accidental change, an object’s variable can only be changed by an object’s method. <br><br>\n",
    "### Using `__`, getters, setters for encapsulation."
   ]
  },
  {
   "cell_type": "code",
   "execution_count": 43,
   "metadata": {},
   "outputs": [
    {
     "name": "stdout",
     "output_type": "stream",
     "text": [
      "5\n",
      "hi\n",
      "Unexpected exception formatting exception. Falling back to standard exception\n"
     ]
    },
    {
     "name": "stderr",
     "output_type": "stream",
     "text": [
      "Traceback (most recent call last):\n",
      "  File \"C:\\Users\\Amogh\\AppData\\Roaming\\Python\\Python39\\site-packages\\IPython\\core\\interactiveshell.py\", line 3460, in run_code\n",
      "    exec(code_obj, self.user_global_ns, self.user_ns)\n",
      "  File \"C:\\Users\\Amogh\\AppData\\Local\\Temp\\ipykernel_19780\\970575349.py\", line 24, in <module>\n",
      "    print(\"hi again\")\n",
      "TypeError: dummyFunction() takes 0 positional arguments but 1 was given\n",
      "\n",
      "During handling of the above exception, another exception occurred:\n",
      "\n",
      "Traceback (most recent call last):\n",
      "  File \"C:\\Users\\Amogh\\AppData\\Roaming\\Python\\Python39\\site-packages\\IPython\\core\\interactiveshell.py\", line 2057, in showtraceback\n",
      "    stb = self.InteractiveTB.structured_traceback(\n",
      "  File \"C:\\Users\\Amogh\\AppData\\Roaming\\Python\\Python39\\site-packages\\IPython\\core\\ultratb.py\", line 1118, in structured_traceback\n",
      "    return FormattedTB.structured_traceback(\n",
      "  File \"C:\\Users\\Amogh\\AppData\\Roaming\\Python\\Python39\\site-packages\\IPython\\core\\ultratb.py\", line 1012, in structured_traceback\n",
      "    return VerboseTB.structured_traceback(\n",
      "  File \"C:\\Users\\Amogh\\AppData\\Roaming\\Python\\Python39\\site-packages\\IPython\\core\\ultratb.py\", line 865, in structured_traceback\n",
      "    formatted_exception = self.format_exception_as_a_whole(etype, evalue, etb, number_of_lines_of_context,\n",
      "  File \"C:\\Users\\Amogh\\AppData\\Roaming\\Python\\Python39\\site-packages\\IPython\\core\\ultratb.py\", line 818, in format_exception_as_a_whole\n",
      "    frames.append(self.format_record(r))\n",
      "  File \"C:\\Users\\Amogh\\AppData\\Roaming\\Python\\Python39\\site-packages\\IPython\\core\\ultratb.py\", line 736, in format_record\n",
      "    result += ''.join(_format_traceback_lines(frame_info.lines, Colors, self.has_colors, lvals))\n",
      "  File \"C:\\Users\\Amogh\\AppData\\Roaming\\Python\\Python39\\site-packages\\stack_data\\utils.py\", line 144, in cached_property_wrapper\n",
      "    value = obj.__dict__[self.func.__name__] = self.func(obj)\n",
      "  File \"C:\\Users\\Amogh\\AppData\\Roaming\\Python\\Python39\\site-packages\\stack_data\\core.py\", line 734, in lines\n",
      "    pieces = self.included_pieces\n",
      "  File \"C:\\Users\\Amogh\\AppData\\Roaming\\Python\\Python39\\site-packages\\stack_data\\utils.py\", line 144, in cached_property_wrapper\n",
      "    value = obj.__dict__[self.func.__name__] = self.func(obj)\n",
      "  File \"C:\\Users\\Amogh\\AppData\\Roaming\\Python\\Python39\\site-packages\\stack_data\\core.py\", line 677, in included_pieces\n",
      "    scope_pieces = self.scope_pieces\n",
      "  File \"C:\\Users\\Amogh\\AppData\\Roaming\\Python\\Python39\\site-packages\\stack_data\\utils.py\", line 144, in cached_property_wrapper\n",
      "    value = obj.__dict__[self.func.__name__] = self.func(obj)\n",
      "  File \"C:\\Users\\Amogh\\AppData\\Roaming\\Python\\Python39\\site-packages\\stack_data\\core.py\", line 614, in scope_pieces\n",
      "    scope_start, scope_end = self.source.line_range(self.scope)\n",
      "  File \"C:\\Users\\Amogh\\AppData\\Roaming\\Python\\Python39\\site-packages\\stack_data\\core.py\", line 178, in line_range\n",
      "    return line_range(self.asttext(), node)\n",
      "  File \"C:\\Users\\Amogh\\AppData\\Roaming\\Python\\Python39\\site-packages\\executing\\executing.py\", line 428, in asttext\n",
      "    self._asttext = ASTText(self.text, tree=self.tree, filename=self.filename)\n",
      "  File \"C:\\Users\\Amogh\\AppData\\Roaming\\Python\\Python39\\site-packages\\asttokens\\asttokens.py\", line 307, in __init__\n",
      "    super(ASTText, self).__init__(source_text, filename)\n",
      "  File \"C:\\Users\\Amogh\\AppData\\Roaming\\Python\\Python39\\site-packages\\asttokens\\asttokens.py\", line 44, in __init__\n",
      "    source_text = six.ensure_text(source_text)\n",
      "AttributeError: module 'six' has no attribute 'ensure_text'\n"
     ]
    }
   ],
   "source": [
    "class NewClass:\n",
    "    __clasNumber = 5\n",
    "    \n",
    "    def getClassNumber(self):\n",
    "        return self.__clasNumber\n",
    "    \n",
    "    def setClassNumber(self, new_class_number):\n",
    "        self.__clasNumber = new_class_number\n",
    "        return self.__clasNumber\n",
    "    \n",
    "newObject = NewClass()\n",
    "print(newObject.getClassNumber())\n",
    "newObject.setClassNumber(1000)\n",
    "newObject.getClassNumber()\n",
    "\n",
    "def dummyFunction():\n",
    "    print(\"dummy\")\n",
    "    \n",
    "newObject.setClassNumber = dummyFunction\n",
    "\n",
    "new_print = print\n",
    "print = dummyFunction\n",
    "new_print(\"hi\")\n",
    "print(\"hi again\")\n"
   ]
  },
  {
   "cell_type": "code",
   "execution_count": null,
   "metadata": {},
   "outputs": [],
   "source": []
  }
 ],
 "metadata": {
  "kernelspec": {
   "display_name": "Python 3",
   "language": "python",
   "name": "python3"
  },
  "language_info": {
   "codemirror_mode": {
    "name": "ipython",
    "version": 3
   },
   "file_extension": ".py",
   "mimetype": "text/x-python",
   "name": "python",
   "nbconvert_exporter": "python",
   "pygments_lexer": "ipython3",
   "version": "3.9.13"
  },
  "orig_nbformat": 4
 },
 "nbformat": 4,
 "nbformat_minor": 2
}
